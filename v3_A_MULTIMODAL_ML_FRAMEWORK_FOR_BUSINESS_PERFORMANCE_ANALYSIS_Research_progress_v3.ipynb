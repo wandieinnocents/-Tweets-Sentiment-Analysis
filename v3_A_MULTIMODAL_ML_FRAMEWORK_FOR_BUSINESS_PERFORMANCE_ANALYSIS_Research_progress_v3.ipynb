{
  "nbformat": 4,
  "nbformat_minor": 0,
  "metadata": {
    "colab": {
      "provenance": [],
      "authorship_tag": "ABX9TyPAjjHRax8MnpJHKLyCf9TX",
      "include_colab_link": true
    },
    "kernelspec": {
      "name": "python3",
      "display_name": "Python 3"
    },
    "language_info": {
      "name": "python"
    }
  },
  "cells": [
    {
      "cell_type": "markdown",
      "metadata": {
        "id": "view-in-github",
        "colab_type": "text"
      },
      "source": [
        "<a href=\"https://colab.research.google.com/github/wandieinnocents/-Tweets-Sentiment-Analysis/blob/main/v3_A_MULTIMODAL_ML_FRAMEWORK_FOR_BUSINESS_PERFORMANCE_ANALYSIS_Research_progress_v3.ipynb\" target=\"_parent\"><img src=\"https://colab.research.google.com/assets/colab-badge.svg\" alt=\"Open In Colab\"/></a>"
      ]
    },
    {
      "cell_type": "markdown",
      "source": [
        "#BUSINESS  PERFORMANCE ANALYSIS\n",
        "\n",
        "In this research, I utilize The Supermart Grocery Sales - Retail Analytics Dataset  to evaluate and respond to business queries regarding sales data for a duration of 3 years of operation. The dataset contains data on orders placed by customers using a grocery delivery application in the state of Tamil Nadu, India.\n",
        "\n",
        "The dataset is a useful resource also for understanding consumer behavior in the grocery retail industry, and for developing insights into the factors that drive sales in this sector. By analyzing the dataset, businesses can be able to  identify patterns, trends, and correlations that can help retailers optimize their marketing, pricing, and product strategies to increase sales and revenue and also to knkow which region to focus on most."
      ],
      "metadata": {
        "id": "I0yj0XOl8BgU"
      }
    },
    {
      "cell_type": "markdown",
      "source": [
        "##TABLE OF CONTENTS\n",
        "\n",
        "1.   Y:Data loading\n",
        "2.   Y:Cleaning null values\n",
        "3.   Y:What Product Category sold the most for all the 3 years?\n",
        "4.   Y:What Product Sub Category sold the most for all the 3 years?\n",
        "5.   Y:Which city had the highest number of sales\n",
        "6.   Total number of sales to per customer\n",
        "7.   Total number of sales by region\n",
        "8.   Total profits per city\n",
        "9.   Total profits per region\n",
        "10.   Total sales per state\n",
        "11.   Total profits per state\n",
        "12.   Total  number of sales per year\n",
        "13.   Total  number of profits per year\n",
        "\n",
        "\n"
      ],
      "metadata": {
        "id": "bTQy0MVZk0p2"
      }
    },
    {
      "cell_type": "code",
      "source": [
        "# import libraries\n",
        "import pandas as pd\n",
        "import matplotlib.pyplot as plt\n",
        "import os\n"
      ],
      "metadata": {
        "id": "LgZsWVmwHXt-"
      },
      "execution_count": 64,
      "outputs": []
    },
    {
      "cell_type": "code",
      "source": [
        "\n",
        "# mount drive\n",
        "from google.colab import drive\n",
        "drive.mount('/content/drive', force_remount=True)"
      ],
      "metadata": {
        "colab": {
          "base_uri": "https://localhost:8080/"
        },
        "id": "DWe8-gl7HZko",
        "outputId": "598f81b2-364f-4fc4-d6a6-5fdeeb92110a"
      },
      "execution_count": 65,
      "outputs": [
        {
          "output_type": "stream",
          "name": "stdout",
          "text": [
            "Mounted at /content/drive\n"
          ]
        }
      ]
    },
    {
      "cell_type": "code",
      "source": [
        "# read the dataset for supermarket sales\n",
        "df = pd.read_csv(\"/content/drive/MyDrive/research1/supermarket_grocery_sales.csv\")"
      ],
      "metadata": {
        "id": "EKDxPpiYHaD-"
      },
      "execution_count": 66,
      "outputs": []
    },
    {
      "cell_type": "code",
      "source": [
        "# display the dataset\n",
        "df"
      ],
      "metadata": {
        "colab": {
          "base_uri": "https://localhost:8080/",
          "height": 423
        },
        "id": "tYZb-fzNHcxr",
        "outputId": "a6cee94d-bed9-4da9-a9ff-8658f51e878f"
      },
      "execution_count": 67,
      "outputs": [
        {
          "output_type": "execute_result",
          "data": {
            "text/plain": [
              "     Order ID Customer Name           Category      Sub Category         City  \\\n",
              "0         OD1        Harish       Oil & Masala           Masalas      Vellore   \n",
              "1         OD2         Sudha          Beverages     Health Drinks  Krishnagiri   \n",
              "2         OD3       Hussain        Food Grains      Atta & Flour   Perambalur   \n",
              "3         OD4       Jackson   Fruits & Veggies  Fresh Vegetables   Dharmapuri   \n",
              "4         OD5       Ridhesh        Food Grains   Organic Staples         Ooty   \n",
              "...       ...           ...                ...               ...          ...   \n",
              "9989   OD9990        Sudeep  Eggs, Meat & Fish              Eggs      Madurai   \n",
              "9990   OD9991          Alan             Bakery          Biscuits  Kanyakumari   \n",
              "9991   OD9992          Ravi        Food Grains              Rice         Bodi   \n",
              "9992   OD9993          Peer       Oil & Masala            Spices   Pudukottai   \n",
              "9993   OD9994        Ganesh        Food Grains      Atta & Flour  Tirunelveli   \n",
              "\n",
              "      Order Date Region  Sales  Discount  Profit       State  \n",
              "0     11-08-2017  North   1254      0.12  401.28  Tamil Nadu  \n",
              "1     11-08-2017  South    749      0.18  149.80  Tamil Nadu  \n",
              "2     06-12-2017   West   2360      0.21  165.20  Tamil Nadu  \n",
              "3     10-11-2016  South    896      0.25   89.60  Tamil Nadu  \n",
              "4     10-11-2016  South   2355      0.26  918.45  Tamil Nadu  \n",
              "...          ...    ...    ...       ...     ...         ...  \n",
              "9989  12/24/2015   West    945      0.16  359.10  Tamil Nadu  \n",
              "9990  07-12-2015   West   1195      0.26   71.70  Tamil Nadu  \n",
              "9991  06-06-2017   West   1567      0.16  501.44  Tamil Nadu  \n",
              "9992  10/16/2018   West   1659      0.15  597.24  Tamil Nadu  \n",
              "9993   4/17/2018   West   1034      0.28  165.44  Tamil Nadu  \n",
              "\n",
              "[9994 rows x 11 columns]"
            ],
            "text/html": [
              "\n",
              "\n",
              "  <div id=\"df-1247867a-23e2-4f0e-b640-a7147c9cb181\">\n",
              "    <div class=\"colab-df-container\">\n",
              "      <div>\n",
              "<style scoped>\n",
              "    .dataframe tbody tr th:only-of-type {\n",
              "        vertical-align: middle;\n",
              "    }\n",
              "\n",
              "    .dataframe tbody tr th {\n",
              "        vertical-align: top;\n",
              "    }\n",
              "\n",
              "    .dataframe thead th {\n",
              "        text-align: right;\n",
              "    }\n",
              "</style>\n",
              "<table border=\"1\" class=\"dataframe\">\n",
              "  <thead>\n",
              "    <tr style=\"text-align: right;\">\n",
              "      <th></th>\n",
              "      <th>Order ID</th>\n",
              "      <th>Customer Name</th>\n",
              "      <th>Category</th>\n",
              "      <th>Sub Category</th>\n",
              "      <th>City</th>\n",
              "      <th>Order Date</th>\n",
              "      <th>Region</th>\n",
              "      <th>Sales</th>\n",
              "      <th>Discount</th>\n",
              "      <th>Profit</th>\n",
              "      <th>State</th>\n",
              "    </tr>\n",
              "  </thead>\n",
              "  <tbody>\n",
              "    <tr>\n",
              "      <th>0</th>\n",
              "      <td>OD1</td>\n",
              "      <td>Harish</td>\n",
              "      <td>Oil &amp; Masala</td>\n",
              "      <td>Masalas</td>\n",
              "      <td>Vellore</td>\n",
              "      <td>11-08-2017</td>\n",
              "      <td>North</td>\n",
              "      <td>1254</td>\n",
              "      <td>0.12</td>\n",
              "      <td>401.28</td>\n",
              "      <td>Tamil Nadu</td>\n",
              "    </tr>\n",
              "    <tr>\n",
              "      <th>1</th>\n",
              "      <td>OD2</td>\n",
              "      <td>Sudha</td>\n",
              "      <td>Beverages</td>\n",
              "      <td>Health Drinks</td>\n",
              "      <td>Krishnagiri</td>\n",
              "      <td>11-08-2017</td>\n",
              "      <td>South</td>\n",
              "      <td>749</td>\n",
              "      <td>0.18</td>\n",
              "      <td>149.80</td>\n",
              "      <td>Tamil Nadu</td>\n",
              "    </tr>\n",
              "    <tr>\n",
              "      <th>2</th>\n",
              "      <td>OD3</td>\n",
              "      <td>Hussain</td>\n",
              "      <td>Food Grains</td>\n",
              "      <td>Atta &amp; Flour</td>\n",
              "      <td>Perambalur</td>\n",
              "      <td>06-12-2017</td>\n",
              "      <td>West</td>\n",
              "      <td>2360</td>\n",
              "      <td>0.21</td>\n",
              "      <td>165.20</td>\n",
              "      <td>Tamil Nadu</td>\n",
              "    </tr>\n",
              "    <tr>\n",
              "      <th>3</th>\n",
              "      <td>OD4</td>\n",
              "      <td>Jackson</td>\n",
              "      <td>Fruits &amp; Veggies</td>\n",
              "      <td>Fresh Vegetables</td>\n",
              "      <td>Dharmapuri</td>\n",
              "      <td>10-11-2016</td>\n",
              "      <td>South</td>\n",
              "      <td>896</td>\n",
              "      <td>0.25</td>\n",
              "      <td>89.60</td>\n",
              "      <td>Tamil Nadu</td>\n",
              "    </tr>\n",
              "    <tr>\n",
              "      <th>4</th>\n",
              "      <td>OD5</td>\n",
              "      <td>Ridhesh</td>\n",
              "      <td>Food Grains</td>\n",
              "      <td>Organic Staples</td>\n",
              "      <td>Ooty</td>\n",
              "      <td>10-11-2016</td>\n",
              "      <td>South</td>\n",
              "      <td>2355</td>\n",
              "      <td>0.26</td>\n",
              "      <td>918.45</td>\n",
              "      <td>Tamil Nadu</td>\n",
              "    </tr>\n",
              "    <tr>\n",
              "      <th>...</th>\n",
              "      <td>...</td>\n",
              "      <td>...</td>\n",
              "      <td>...</td>\n",
              "      <td>...</td>\n",
              "      <td>...</td>\n",
              "      <td>...</td>\n",
              "      <td>...</td>\n",
              "      <td>...</td>\n",
              "      <td>...</td>\n",
              "      <td>...</td>\n",
              "      <td>...</td>\n",
              "    </tr>\n",
              "    <tr>\n",
              "      <th>9989</th>\n",
              "      <td>OD9990</td>\n",
              "      <td>Sudeep</td>\n",
              "      <td>Eggs, Meat &amp; Fish</td>\n",
              "      <td>Eggs</td>\n",
              "      <td>Madurai</td>\n",
              "      <td>12/24/2015</td>\n",
              "      <td>West</td>\n",
              "      <td>945</td>\n",
              "      <td>0.16</td>\n",
              "      <td>359.10</td>\n",
              "      <td>Tamil Nadu</td>\n",
              "    </tr>\n",
              "    <tr>\n",
              "      <th>9990</th>\n",
              "      <td>OD9991</td>\n",
              "      <td>Alan</td>\n",
              "      <td>Bakery</td>\n",
              "      <td>Biscuits</td>\n",
              "      <td>Kanyakumari</td>\n",
              "      <td>07-12-2015</td>\n",
              "      <td>West</td>\n",
              "      <td>1195</td>\n",
              "      <td>0.26</td>\n",
              "      <td>71.70</td>\n",
              "      <td>Tamil Nadu</td>\n",
              "    </tr>\n",
              "    <tr>\n",
              "      <th>9991</th>\n",
              "      <td>OD9992</td>\n",
              "      <td>Ravi</td>\n",
              "      <td>Food Grains</td>\n",
              "      <td>Rice</td>\n",
              "      <td>Bodi</td>\n",
              "      <td>06-06-2017</td>\n",
              "      <td>West</td>\n",
              "      <td>1567</td>\n",
              "      <td>0.16</td>\n",
              "      <td>501.44</td>\n",
              "      <td>Tamil Nadu</td>\n",
              "    </tr>\n",
              "    <tr>\n",
              "      <th>9992</th>\n",
              "      <td>OD9993</td>\n",
              "      <td>Peer</td>\n",
              "      <td>Oil &amp; Masala</td>\n",
              "      <td>Spices</td>\n",
              "      <td>Pudukottai</td>\n",
              "      <td>10/16/2018</td>\n",
              "      <td>West</td>\n",
              "      <td>1659</td>\n",
              "      <td>0.15</td>\n",
              "      <td>597.24</td>\n",
              "      <td>Tamil Nadu</td>\n",
              "    </tr>\n",
              "    <tr>\n",
              "      <th>9993</th>\n",
              "      <td>OD9994</td>\n",
              "      <td>Ganesh</td>\n",
              "      <td>Food Grains</td>\n",
              "      <td>Atta &amp; Flour</td>\n",
              "      <td>Tirunelveli</td>\n",
              "      <td>4/17/2018</td>\n",
              "      <td>West</td>\n",
              "      <td>1034</td>\n",
              "      <td>0.28</td>\n",
              "      <td>165.44</td>\n",
              "      <td>Tamil Nadu</td>\n",
              "    </tr>\n",
              "  </tbody>\n",
              "</table>\n",
              "<p>9994 rows × 11 columns</p>\n",
              "</div>\n",
              "      <button class=\"colab-df-convert\" onclick=\"convertToInteractive('df-1247867a-23e2-4f0e-b640-a7147c9cb181')\"\n",
              "              title=\"Convert this dataframe to an interactive table.\"\n",
              "              style=\"display:none;\">\n",
              "\n",
              "  <svg xmlns=\"http://www.w3.org/2000/svg\" height=\"24px\"viewBox=\"0 0 24 24\"\n",
              "       width=\"24px\">\n",
              "    <path d=\"M0 0h24v24H0V0z\" fill=\"none\"/>\n",
              "    <path d=\"M18.56 5.44l.94 2.06.94-2.06 2.06-.94-2.06-.94-.94-2.06-.94 2.06-2.06.94zm-11 1L8.5 8.5l.94-2.06 2.06-.94-2.06-.94L8.5 2.5l-.94 2.06-2.06.94zm10 10l.94 2.06.94-2.06 2.06-.94-2.06-.94-.94-2.06-.94 2.06-2.06.94z\"/><path d=\"M17.41 7.96l-1.37-1.37c-.4-.4-.92-.59-1.43-.59-.52 0-1.04.2-1.43.59L10.3 9.45l-7.72 7.72c-.78.78-.78 2.05 0 2.83L4 21.41c.39.39.9.59 1.41.59.51 0 1.02-.2 1.41-.59l7.78-7.78 2.81-2.81c.8-.78.8-2.07 0-2.86zM5.41 20L4 18.59l7.72-7.72 1.47 1.35L5.41 20z\"/>\n",
              "  </svg>\n",
              "      </button>\n",
              "\n",
              "\n",
              "\n",
              "    <div id=\"df-e0b1bffd-9c08-4230-9bc7-0818af5aa49c\">\n",
              "      <button class=\"colab-df-quickchart\" onclick=\"quickchart('df-e0b1bffd-9c08-4230-9bc7-0818af5aa49c')\"\n",
              "              title=\"Suggest charts.\"\n",
              "              style=\"display:none;\">\n",
              "\n",
              "<svg xmlns=\"http://www.w3.org/2000/svg\" height=\"24px\"viewBox=\"0 0 24 24\"\n",
              "     width=\"24px\">\n",
              "    <g>\n",
              "        <path d=\"M19 3H5c-1.1 0-2 .9-2 2v14c0 1.1.9 2 2 2h14c1.1 0 2-.9 2-2V5c0-1.1-.9-2-2-2zM9 17H7v-7h2v7zm4 0h-2V7h2v10zm4 0h-2v-4h2v4z\"/>\n",
              "    </g>\n",
              "</svg>\n",
              "      </button>\n",
              "    </div>\n",
              "\n",
              "<style>\n",
              "  .colab-df-quickchart {\n",
              "    background-color: #E8F0FE;\n",
              "    border: none;\n",
              "    border-radius: 50%;\n",
              "    cursor: pointer;\n",
              "    display: none;\n",
              "    fill: #1967D2;\n",
              "    height: 32px;\n",
              "    padding: 0 0 0 0;\n",
              "    width: 32px;\n",
              "  }\n",
              "\n",
              "  .colab-df-quickchart:hover {\n",
              "    background-color: #E2EBFA;\n",
              "    box-shadow: 0px 1px 2px rgba(60, 64, 67, 0.3), 0px 1px 3px 1px rgba(60, 64, 67, 0.15);\n",
              "    fill: #174EA6;\n",
              "  }\n",
              "\n",
              "  [theme=dark] .colab-df-quickchart {\n",
              "    background-color: #3B4455;\n",
              "    fill: #D2E3FC;\n",
              "  }\n",
              "\n",
              "  [theme=dark] .colab-df-quickchart:hover {\n",
              "    background-color: #434B5C;\n",
              "    box-shadow: 0px 1px 3px 1px rgba(0, 0, 0, 0.15);\n",
              "    filter: drop-shadow(0px 1px 2px rgba(0, 0, 0, 0.3));\n",
              "    fill: #FFFFFF;\n",
              "  }\n",
              "</style>\n",
              "\n",
              "    <script>\n",
              "      async function quickchart(key) {\n",
              "        const containerElement = document.querySelector('#' + key);\n",
              "        const charts = await google.colab.kernel.invokeFunction(\n",
              "            'suggestCharts', [key], {});\n",
              "      }\n",
              "    </script>\n",
              "\n",
              "      <script>\n",
              "\n",
              "function displayQuickchartButton(domScope) {\n",
              "  let quickchartButtonEl =\n",
              "    domScope.querySelector('#df-e0b1bffd-9c08-4230-9bc7-0818af5aa49c button.colab-df-quickchart');\n",
              "  quickchartButtonEl.style.display =\n",
              "    google.colab.kernel.accessAllowed ? 'block' : 'none';\n",
              "}\n",
              "\n",
              "        displayQuickchartButton(document);\n",
              "      </script>\n",
              "      <style>\n",
              "    .colab-df-container {\n",
              "      display:flex;\n",
              "      flex-wrap:wrap;\n",
              "      gap: 12px;\n",
              "    }\n",
              "\n",
              "    .colab-df-convert {\n",
              "      background-color: #E8F0FE;\n",
              "      border: none;\n",
              "      border-radius: 50%;\n",
              "      cursor: pointer;\n",
              "      display: none;\n",
              "      fill: #1967D2;\n",
              "      height: 32px;\n",
              "      padding: 0 0 0 0;\n",
              "      width: 32px;\n",
              "    }\n",
              "\n",
              "    .colab-df-convert:hover {\n",
              "      background-color: #E2EBFA;\n",
              "      box-shadow: 0px 1px 2px rgba(60, 64, 67, 0.3), 0px 1px 3px 1px rgba(60, 64, 67, 0.15);\n",
              "      fill: #174EA6;\n",
              "    }\n",
              "\n",
              "    [theme=dark] .colab-df-convert {\n",
              "      background-color: #3B4455;\n",
              "      fill: #D2E3FC;\n",
              "    }\n",
              "\n",
              "    [theme=dark] .colab-df-convert:hover {\n",
              "      background-color: #434B5C;\n",
              "      box-shadow: 0px 1px 3px 1px rgba(0, 0, 0, 0.15);\n",
              "      filter: drop-shadow(0px 1px 2px rgba(0, 0, 0, 0.3));\n",
              "      fill: #FFFFFF;\n",
              "    }\n",
              "  </style>\n",
              "\n",
              "      <script>\n",
              "        const buttonEl =\n",
              "          document.querySelector('#df-1247867a-23e2-4f0e-b640-a7147c9cb181 button.colab-df-convert');\n",
              "        buttonEl.style.display =\n",
              "          google.colab.kernel.accessAllowed ? 'block' : 'none';\n",
              "\n",
              "        async function convertToInteractive(key) {\n",
              "          const element = document.querySelector('#df-1247867a-23e2-4f0e-b640-a7147c9cb181');\n",
              "          const dataTable =\n",
              "            await google.colab.kernel.invokeFunction('convertToInteractive',\n",
              "                                                     [key], {});\n",
              "          if (!dataTable) return;\n",
              "\n",
              "          const docLinkHtml = 'Like what you see? Visit the ' +\n",
              "            '<a target=\"_blank\" href=https://colab.research.google.com/notebooks/data_table.ipynb>data table notebook</a>'\n",
              "            + ' to learn more about interactive tables.';\n",
              "          element.innerHTML = '';\n",
              "          dataTable['output_type'] = 'display_data';\n",
              "          await google.colab.output.renderOutput(dataTable, element);\n",
              "          const docLink = document.createElement('div');\n",
              "          docLink.innerHTML = docLinkHtml;\n",
              "          element.appendChild(docLink);\n",
              "        }\n",
              "      </script>\n",
              "    </div>\n",
              "  </div>\n"
            ]
          },
          "metadata": {},
          "execution_count": 67
        }
      ]
    },
    {
      "cell_type": "markdown",
      "source": [
        "CHECKING AND CLEANING OF NULL VALUES"
      ],
      "metadata": {
        "id": "mk9WEPenTVsB"
      }
    },
    {
      "cell_type": "code",
      "source": [
        "# Checking for null values using isnull()\n",
        "print(df.isnull())"
      ],
      "metadata": {
        "colab": {
          "base_uri": "https://localhost:8080/"
        },
        "id": "1ZKPlO1VTZgI",
        "outputId": "4e6b24ea-120b-492e-dd34-9d8059f82d81"
      },
      "execution_count": 68,
      "outputs": [
        {
          "output_type": "stream",
          "name": "stdout",
          "text": [
            "      Order ID  Customer Name  Category  Sub Category   City  Order Date  \\\n",
            "0        False          False     False         False  False       False   \n",
            "1        False          False     False         False  False       False   \n",
            "2        False          False     False         False  False       False   \n",
            "3        False          False     False         False  False       False   \n",
            "4        False          False     False         False  False       False   \n",
            "...        ...            ...       ...           ...    ...         ...   \n",
            "9989     False          False     False         False  False       False   \n",
            "9990     False          False     False         False  False       False   \n",
            "9991     False          False     False         False  False       False   \n",
            "9992     False          False     False         False  False       False   \n",
            "9993     False          False     False         False  False       False   \n",
            "\n",
            "      Region  Sales  Discount  Profit  State  \n",
            "0      False  False     False   False  False  \n",
            "1      False  False     False   False  False  \n",
            "2      False  False     False   False  False  \n",
            "3      False  False     False   False  False  \n",
            "4      False  False     False   False  False  \n",
            "...      ...    ...       ...     ...    ...  \n",
            "9989   False  False     False   False  False  \n",
            "9990   False  False     False   False  False  \n",
            "9991   False  False     False   False  False  \n",
            "9992   False  False     False   False  False  \n",
            "9993   False  False     False   False  False  \n",
            "\n",
            "[9994 rows x 11 columns]\n"
          ]
        }
      ]
    },
    {
      "cell_type": "code",
      "source": [
        "# count the number of null values if exists\n",
        "print(df.isnull().sum())"
      ],
      "metadata": {
        "colab": {
          "base_uri": "https://localhost:8080/"
        },
        "id": "bk84_Kzxnc-n",
        "outputId": "a7d9955f-bc57-4e15-f4c7-808078a93662"
      },
      "execution_count": 69,
      "outputs": [
        {
          "output_type": "stream",
          "name": "stdout",
          "text": [
            "Order ID         0\n",
            "Customer Name    0\n",
            "Category         0\n",
            "Sub Category     0\n",
            "City             0\n",
            "Order Date       0\n",
            "Region           0\n",
            "Sales            0\n",
            "Discount         0\n",
            "Profit           0\n",
            "State            0\n",
            "dtype: int64\n"
          ]
        }
      ]
    },
    {
      "cell_type": "code",
      "source": [
        "# remove all the null values from dataset if exists\n",
        "df=df.dropna(how='all')"
      ],
      "metadata": {
        "id": "sB3k8zfGnmyT"
      },
      "execution_count": 70,
      "outputs": []
    },
    {
      "cell_type": "markdown",
      "source": [
        "CLEANED DATASET"
      ],
      "metadata": {
        "id": "emajiLQln34j"
      }
    },
    {
      "cell_type": "code",
      "source": [
        "# cleaned dataset\n",
        "df.head(10)"
      ],
      "metadata": {
        "colab": {
          "base_uri": "https://localhost:8080/",
          "height": 362
        },
        "id": "IjM--KV9nzey",
        "outputId": "b5ec4ef9-78b7-405f-f246-a4090b523fda"
      },
      "execution_count": 71,
      "outputs": [
        {
          "output_type": "execute_result",
          "data": {
            "text/plain": [
              "  Order ID Customer Name          Category      Sub Category            City  \\\n",
              "0      OD1        Harish      Oil & Masala           Masalas         Vellore   \n",
              "1      OD2         Sudha         Beverages     Health Drinks     Krishnagiri   \n",
              "2      OD3       Hussain       Food Grains      Atta & Flour      Perambalur   \n",
              "3      OD4       Jackson  Fruits & Veggies  Fresh Vegetables      Dharmapuri   \n",
              "4      OD5       Ridhesh       Food Grains   Organic Staples            Ooty   \n",
              "5      OD6        Adavan       Food Grains   Organic Staples      Dharmapuri   \n",
              "6      OD7         Jonas  Fruits & Veggies  Fresh Vegetables          Trichy   \n",
              "7      OD8         Hafiz  Fruits & Veggies      Fresh Fruits  Ramanadhapuram   \n",
              "8      OD9         Hafiz            Bakery          Biscuits     Tirunelveli   \n",
              "9     OD10      Krithika            Bakery             Cakes         Chennai   \n",
              "\n",
              "   Order Date Region  Sales  Discount  Profit       State  \n",
              "0  11-08-2017  North   1254      0.12  401.28  Tamil Nadu  \n",
              "1  11-08-2017  South    749      0.18  149.80  Tamil Nadu  \n",
              "2  06-12-2017   West   2360      0.21  165.20  Tamil Nadu  \n",
              "3  10-11-2016  South    896      0.25   89.60  Tamil Nadu  \n",
              "4  10-11-2016  South   2355      0.26  918.45  Tamil Nadu  \n",
              "5  06-09-2015   West   2305      0.26  322.70  Tamil Nadu  \n",
              "6  06-09-2015   West    826      0.33  346.92  Tamil Nadu  \n",
              "7  06-09-2015   West   1847      0.32  147.76  Tamil Nadu  \n",
              "8  06-09-2015   West    791      0.23  181.93  Tamil Nadu  \n",
              "9  06-09-2015   West   1795      0.27  484.65  Tamil Nadu  "
            ],
            "text/html": [
              "\n",
              "\n",
              "  <div id=\"df-d95de319-15df-49a1-8fb0-b5e532e07481\">\n",
              "    <div class=\"colab-df-container\">\n",
              "      <div>\n",
              "<style scoped>\n",
              "    .dataframe tbody tr th:only-of-type {\n",
              "        vertical-align: middle;\n",
              "    }\n",
              "\n",
              "    .dataframe tbody tr th {\n",
              "        vertical-align: top;\n",
              "    }\n",
              "\n",
              "    .dataframe thead th {\n",
              "        text-align: right;\n",
              "    }\n",
              "</style>\n",
              "<table border=\"1\" class=\"dataframe\">\n",
              "  <thead>\n",
              "    <tr style=\"text-align: right;\">\n",
              "      <th></th>\n",
              "      <th>Order ID</th>\n",
              "      <th>Customer Name</th>\n",
              "      <th>Category</th>\n",
              "      <th>Sub Category</th>\n",
              "      <th>City</th>\n",
              "      <th>Order Date</th>\n",
              "      <th>Region</th>\n",
              "      <th>Sales</th>\n",
              "      <th>Discount</th>\n",
              "      <th>Profit</th>\n",
              "      <th>State</th>\n",
              "    </tr>\n",
              "  </thead>\n",
              "  <tbody>\n",
              "    <tr>\n",
              "      <th>0</th>\n",
              "      <td>OD1</td>\n",
              "      <td>Harish</td>\n",
              "      <td>Oil &amp; Masala</td>\n",
              "      <td>Masalas</td>\n",
              "      <td>Vellore</td>\n",
              "      <td>11-08-2017</td>\n",
              "      <td>North</td>\n",
              "      <td>1254</td>\n",
              "      <td>0.12</td>\n",
              "      <td>401.28</td>\n",
              "      <td>Tamil Nadu</td>\n",
              "    </tr>\n",
              "    <tr>\n",
              "      <th>1</th>\n",
              "      <td>OD2</td>\n",
              "      <td>Sudha</td>\n",
              "      <td>Beverages</td>\n",
              "      <td>Health Drinks</td>\n",
              "      <td>Krishnagiri</td>\n",
              "      <td>11-08-2017</td>\n",
              "      <td>South</td>\n",
              "      <td>749</td>\n",
              "      <td>0.18</td>\n",
              "      <td>149.80</td>\n",
              "      <td>Tamil Nadu</td>\n",
              "    </tr>\n",
              "    <tr>\n",
              "      <th>2</th>\n",
              "      <td>OD3</td>\n",
              "      <td>Hussain</td>\n",
              "      <td>Food Grains</td>\n",
              "      <td>Atta &amp; Flour</td>\n",
              "      <td>Perambalur</td>\n",
              "      <td>06-12-2017</td>\n",
              "      <td>West</td>\n",
              "      <td>2360</td>\n",
              "      <td>0.21</td>\n",
              "      <td>165.20</td>\n",
              "      <td>Tamil Nadu</td>\n",
              "    </tr>\n",
              "    <tr>\n",
              "      <th>3</th>\n",
              "      <td>OD4</td>\n",
              "      <td>Jackson</td>\n",
              "      <td>Fruits &amp; Veggies</td>\n",
              "      <td>Fresh Vegetables</td>\n",
              "      <td>Dharmapuri</td>\n",
              "      <td>10-11-2016</td>\n",
              "      <td>South</td>\n",
              "      <td>896</td>\n",
              "      <td>0.25</td>\n",
              "      <td>89.60</td>\n",
              "      <td>Tamil Nadu</td>\n",
              "    </tr>\n",
              "    <tr>\n",
              "      <th>4</th>\n",
              "      <td>OD5</td>\n",
              "      <td>Ridhesh</td>\n",
              "      <td>Food Grains</td>\n",
              "      <td>Organic Staples</td>\n",
              "      <td>Ooty</td>\n",
              "      <td>10-11-2016</td>\n",
              "      <td>South</td>\n",
              "      <td>2355</td>\n",
              "      <td>0.26</td>\n",
              "      <td>918.45</td>\n",
              "      <td>Tamil Nadu</td>\n",
              "    </tr>\n",
              "    <tr>\n",
              "      <th>5</th>\n",
              "      <td>OD6</td>\n",
              "      <td>Adavan</td>\n",
              "      <td>Food Grains</td>\n",
              "      <td>Organic Staples</td>\n",
              "      <td>Dharmapuri</td>\n",
              "      <td>06-09-2015</td>\n",
              "      <td>West</td>\n",
              "      <td>2305</td>\n",
              "      <td>0.26</td>\n",
              "      <td>322.70</td>\n",
              "      <td>Tamil Nadu</td>\n",
              "    </tr>\n",
              "    <tr>\n",
              "      <th>6</th>\n",
              "      <td>OD7</td>\n",
              "      <td>Jonas</td>\n",
              "      <td>Fruits &amp; Veggies</td>\n",
              "      <td>Fresh Vegetables</td>\n",
              "      <td>Trichy</td>\n",
              "      <td>06-09-2015</td>\n",
              "      <td>West</td>\n",
              "      <td>826</td>\n",
              "      <td>0.33</td>\n",
              "      <td>346.92</td>\n",
              "      <td>Tamil Nadu</td>\n",
              "    </tr>\n",
              "    <tr>\n",
              "      <th>7</th>\n",
              "      <td>OD8</td>\n",
              "      <td>Hafiz</td>\n",
              "      <td>Fruits &amp; Veggies</td>\n",
              "      <td>Fresh Fruits</td>\n",
              "      <td>Ramanadhapuram</td>\n",
              "      <td>06-09-2015</td>\n",
              "      <td>West</td>\n",
              "      <td>1847</td>\n",
              "      <td>0.32</td>\n",
              "      <td>147.76</td>\n",
              "      <td>Tamil Nadu</td>\n",
              "    </tr>\n",
              "    <tr>\n",
              "      <th>8</th>\n",
              "      <td>OD9</td>\n",
              "      <td>Hafiz</td>\n",
              "      <td>Bakery</td>\n",
              "      <td>Biscuits</td>\n",
              "      <td>Tirunelveli</td>\n",
              "      <td>06-09-2015</td>\n",
              "      <td>West</td>\n",
              "      <td>791</td>\n",
              "      <td>0.23</td>\n",
              "      <td>181.93</td>\n",
              "      <td>Tamil Nadu</td>\n",
              "    </tr>\n",
              "    <tr>\n",
              "      <th>9</th>\n",
              "      <td>OD10</td>\n",
              "      <td>Krithika</td>\n",
              "      <td>Bakery</td>\n",
              "      <td>Cakes</td>\n",
              "      <td>Chennai</td>\n",
              "      <td>06-09-2015</td>\n",
              "      <td>West</td>\n",
              "      <td>1795</td>\n",
              "      <td>0.27</td>\n",
              "      <td>484.65</td>\n",
              "      <td>Tamil Nadu</td>\n",
              "    </tr>\n",
              "  </tbody>\n",
              "</table>\n",
              "</div>\n",
              "      <button class=\"colab-df-convert\" onclick=\"convertToInteractive('df-d95de319-15df-49a1-8fb0-b5e532e07481')\"\n",
              "              title=\"Convert this dataframe to an interactive table.\"\n",
              "              style=\"display:none;\">\n",
              "\n",
              "  <svg xmlns=\"http://www.w3.org/2000/svg\" height=\"24px\"viewBox=\"0 0 24 24\"\n",
              "       width=\"24px\">\n",
              "    <path d=\"M0 0h24v24H0V0z\" fill=\"none\"/>\n",
              "    <path d=\"M18.56 5.44l.94 2.06.94-2.06 2.06-.94-2.06-.94-.94-2.06-.94 2.06-2.06.94zm-11 1L8.5 8.5l.94-2.06 2.06-.94-2.06-.94L8.5 2.5l-.94 2.06-2.06.94zm10 10l.94 2.06.94-2.06 2.06-.94-2.06-.94-.94-2.06-.94 2.06-2.06.94z\"/><path d=\"M17.41 7.96l-1.37-1.37c-.4-.4-.92-.59-1.43-.59-.52 0-1.04.2-1.43.59L10.3 9.45l-7.72 7.72c-.78.78-.78 2.05 0 2.83L4 21.41c.39.39.9.59 1.41.59.51 0 1.02-.2 1.41-.59l7.78-7.78 2.81-2.81c.8-.78.8-2.07 0-2.86zM5.41 20L4 18.59l7.72-7.72 1.47 1.35L5.41 20z\"/>\n",
              "  </svg>\n",
              "      </button>\n",
              "\n",
              "\n",
              "\n",
              "    <div id=\"df-e268d54d-d3ad-483c-8209-56df5cb0f999\">\n",
              "      <button class=\"colab-df-quickchart\" onclick=\"quickchart('df-e268d54d-d3ad-483c-8209-56df5cb0f999')\"\n",
              "              title=\"Suggest charts.\"\n",
              "              style=\"display:none;\">\n",
              "\n",
              "<svg xmlns=\"http://www.w3.org/2000/svg\" height=\"24px\"viewBox=\"0 0 24 24\"\n",
              "     width=\"24px\">\n",
              "    <g>\n",
              "        <path d=\"M19 3H5c-1.1 0-2 .9-2 2v14c0 1.1.9 2 2 2h14c1.1 0 2-.9 2-2V5c0-1.1-.9-2-2-2zM9 17H7v-7h2v7zm4 0h-2V7h2v10zm4 0h-2v-4h2v4z\"/>\n",
              "    </g>\n",
              "</svg>\n",
              "      </button>\n",
              "    </div>\n",
              "\n",
              "<style>\n",
              "  .colab-df-quickchart {\n",
              "    background-color: #E8F0FE;\n",
              "    border: none;\n",
              "    border-radius: 50%;\n",
              "    cursor: pointer;\n",
              "    display: none;\n",
              "    fill: #1967D2;\n",
              "    height: 32px;\n",
              "    padding: 0 0 0 0;\n",
              "    width: 32px;\n",
              "  }\n",
              "\n",
              "  .colab-df-quickchart:hover {\n",
              "    background-color: #E2EBFA;\n",
              "    box-shadow: 0px 1px 2px rgba(60, 64, 67, 0.3), 0px 1px 3px 1px rgba(60, 64, 67, 0.15);\n",
              "    fill: #174EA6;\n",
              "  }\n",
              "\n",
              "  [theme=dark] .colab-df-quickchart {\n",
              "    background-color: #3B4455;\n",
              "    fill: #D2E3FC;\n",
              "  }\n",
              "\n",
              "  [theme=dark] .colab-df-quickchart:hover {\n",
              "    background-color: #434B5C;\n",
              "    box-shadow: 0px 1px 3px 1px rgba(0, 0, 0, 0.15);\n",
              "    filter: drop-shadow(0px 1px 2px rgba(0, 0, 0, 0.3));\n",
              "    fill: #FFFFFF;\n",
              "  }\n",
              "</style>\n",
              "\n",
              "    <script>\n",
              "      async function quickchart(key) {\n",
              "        const containerElement = document.querySelector('#' + key);\n",
              "        const charts = await google.colab.kernel.invokeFunction(\n",
              "            'suggestCharts', [key], {});\n",
              "      }\n",
              "    </script>\n",
              "\n",
              "      <script>\n",
              "\n",
              "function displayQuickchartButton(domScope) {\n",
              "  let quickchartButtonEl =\n",
              "    domScope.querySelector('#df-e268d54d-d3ad-483c-8209-56df5cb0f999 button.colab-df-quickchart');\n",
              "  quickchartButtonEl.style.display =\n",
              "    google.colab.kernel.accessAllowed ? 'block' : 'none';\n",
              "}\n",
              "\n",
              "        displayQuickchartButton(document);\n",
              "      </script>\n",
              "      <style>\n",
              "    .colab-df-container {\n",
              "      display:flex;\n",
              "      flex-wrap:wrap;\n",
              "      gap: 12px;\n",
              "    }\n",
              "\n",
              "    .colab-df-convert {\n",
              "      background-color: #E8F0FE;\n",
              "      border: none;\n",
              "      border-radius: 50%;\n",
              "      cursor: pointer;\n",
              "      display: none;\n",
              "      fill: #1967D2;\n",
              "      height: 32px;\n",
              "      padding: 0 0 0 0;\n",
              "      width: 32px;\n",
              "    }\n",
              "\n",
              "    .colab-df-convert:hover {\n",
              "      background-color: #E2EBFA;\n",
              "      box-shadow: 0px 1px 2px rgba(60, 64, 67, 0.3), 0px 1px 3px 1px rgba(60, 64, 67, 0.15);\n",
              "      fill: #174EA6;\n",
              "    }\n",
              "\n",
              "    [theme=dark] .colab-df-convert {\n",
              "      background-color: #3B4455;\n",
              "      fill: #D2E3FC;\n",
              "    }\n",
              "\n",
              "    [theme=dark] .colab-df-convert:hover {\n",
              "      background-color: #434B5C;\n",
              "      box-shadow: 0px 1px 3px 1px rgba(0, 0, 0, 0.15);\n",
              "      filter: drop-shadow(0px 1px 2px rgba(0, 0, 0, 0.3));\n",
              "      fill: #FFFFFF;\n",
              "    }\n",
              "  </style>\n",
              "\n",
              "      <script>\n",
              "        const buttonEl =\n",
              "          document.querySelector('#df-d95de319-15df-49a1-8fb0-b5e532e07481 button.colab-df-convert');\n",
              "        buttonEl.style.display =\n",
              "          google.colab.kernel.accessAllowed ? 'block' : 'none';\n",
              "\n",
              "        async function convertToInteractive(key) {\n",
              "          const element = document.querySelector('#df-d95de319-15df-49a1-8fb0-b5e532e07481');\n",
              "          const dataTable =\n",
              "            await google.colab.kernel.invokeFunction('convertToInteractive',\n",
              "                                                     [key], {});\n",
              "          if (!dataTable) return;\n",
              "\n",
              "          const docLinkHtml = 'Like what you see? Visit the ' +\n",
              "            '<a target=\"_blank\" href=https://colab.research.google.com/notebooks/data_table.ipynb>data table notebook</a>'\n",
              "            + ' to learn more about interactive tables.';\n",
              "          element.innerHTML = '';\n",
              "          dataTable['output_type'] = 'display_data';\n",
              "          await google.colab.output.renderOutput(dataTable, element);\n",
              "          const docLink = document.createElement('div');\n",
              "          docLink.innerHTML = docLinkHtml;\n",
              "          element.appendChild(docLink);\n",
              "        }\n",
              "      </script>\n",
              "    </div>\n",
              "  </div>\n"
            ]
          },
          "metadata": {},
          "execution_count": 71
        }
      ]
    },
    {
      "cell_type": "markdown",
      "source": [
        "#What Product Category sold the most for all the 3 years?\n"
      ],
      "metadata": {
        "id": "F5DTOEAptNY9"
      }
    },
    {
      "cell_type": "code",
      "source": [
        "product_category = df.groupby('Category')\n",
        "\n",
        "# product - category, quantiy orderd : sales\n",
        "#Visualizing\n",
        "product_category_sales = product_category.sum()['Sales']\n",
        "product_category_sales"
      ],
      "metadata": {
        "colab": {
          "base_uri": "https://localhost:8080/"
        },
        "id": "scxaG7iXw0Vi",
        "outputId": "00567308-77ce-4d03-a4d0-34854b8bda86"
      },
      "execution_count": 72,
      "outputs": [
        {
          "output_type": "stream",
          "name": "stderr",
          "text": [
            "<ipython-input-72-1dea33b07a57>:5: FutureWarning: The default value of numeric_only in DataFrameGroupBy.sum is deprecated. In a future version, numeric_only will default to False. Either specify numeric_only or select only columns which should be valid for the function.\n",
            "  product_category_sales = product_category.sum()['Sales']\n"
          ]
        },
        {
          "output_type": "execute_result",
          "data": {
            "text/plain": [
              "Category\n",
              "Bakery               2112281\n",
              "Beverages            2085313\n",
              "Eggs, Meat & Fish    2267401\n",
              "Food Grains          2115272\n",
              "Fruits & Veggies     2100727\n",
              "Oil & Masala         2038442\n",
              "Snacks               2237546\n",
              "Name: Sales, dtype: int64"
            ]
          },
          "metadata": {},
          "execution_count": 72
        }
      ]
    },
    {
      "cell_type": "code",
      "source": [
        "# vizualizing the dataset for product sales\n",
        "products = [product for product, df in product_category]\n",
        "\n",
        "plt.bar(products, product_category_sales)\n",
        "plt.ylabel('Number of sales')\n",
        "plt.xlabel('Product Category')\n",
        "plt.xticks(products, rotation='vertical', size=8)\n",
        "plt.show()"
      ],
      "metadata": {
        "colab": {
          "base_uri": "https://localhost:8080/",
          "height": 550
        },
        "id": "dKW-lwbFsMq9",
        "outputId": "8c6a6961-8c39-449d-e7b9-c2b31382ae4d"
      },
      "execution_count": 73,
      "outputs": [
        {
          "output_type": "display_data",
          "data": {
            "text/plain": [
              "<Figure size 640x480 with 1 Axes>"
            ],
            "image/png": "[encoded data removed]"
          },
          "metadata": {}
        }
      ]
    },
    {
      "cell_type": "markdown",
      "source": [
        "#What Product Sub category Category sold the most for all the 3 years?\n"
      ],
      "metadata": {
        "id": "AA10zVUrt-5k"
      }
    },
    {
      "cell_type": "code",
      "source": [
        "# product sub category which sold most for all 3 years\n",
        "product_sub_category = df.groupby('Sub Category')\n",
        "product_sub_category_sales = product_sub_category.sum()['Sales']\n",
        "product_sub_category_sales"
      ],
      "metadata": {
        "colab": {
          "base_uri": "https://localhost:8080/"
        },
        "id": "0D0yAVlPwXug",
        "outputId": "7eed6815-157d-4e6b-adb4-9688a00def7a"
      },
      "execution_count": 74,
      "outputs": [
        {
          "output_type": "stream",
          "name": "stderr",
          "text": [
            "<ipython-input-74-996f854eb551>:3: FutureWarning: The default value of numeric_only in DataFrameGroupBy.sum is deprecated. In a future version, numeric_only will default to False. Either specify numeric_only or select only columns which should be valid for the function.\n",
            "  product_sub_category_sales = product_sub_category.sum()['Sales']\n"
          ]
        },
        {
          "output_type": "execute_result",
          "data": {
            "text/plain": [
              "Sub Category\n",
              "Atta & Flour           534649\n",
              "Biscuits               684083\n",
              "Breads & Buns          742586\n",
              "Cakes                  685612\n",
              "Chicken                520497\n",
              "Chocolates             733898\n",
              "Cookies                768213\n",
              "Dals & Pulses          523371\n",
              "Edible Oil & Ghee      668086\n",
              "Eggs                   575156\n",
              "Fish                   560548\n",
              "Fresh Fruits           551212\n",
              "Fresh Vegetables       525842\n",
              "Health Drinks         1051439\n",
              "Masalas                697480\n",
              "Mutton                 611200\n",
              "Noodles                735435\n",
              "Organic Fruits         503402\n",
              "Organic Staples        558929\n",
              "Organic Vegetables     520271\n",
              "Rice                   498323\n",
              "Soft Drinks           1033874\n",
              "Spices                 672876\n",
              "Name: Sales, dtype: int64"
            ]
          },
          "metadata": {},
          "execution_count": 74
        }
      ]
    },
    {
      "cell_type": "code",
      "source": [
        "# vizualizing the product sub category sales\n",
        "\n",
        "products_subcat = [product for product, df in product_sub_category]\n",
        "\n",
        "# bar plot\n",
        "plt.bar(products_subcat, product_sub_category_sales)\n",
        "plt.ylabel('Number of sales')\n",
        "plt.xlabel('Product SubCategory')\n",
        "plt.xticks(products_subcat, rotation='vertical', size=8)\n",
        "plt.show()"
      ],
      "metadata": {
        "colab": {
          "base_uri": "https://localhost:8080/",
          "height": 559
        },
        "id": "7tHxC5JluDdX",
        "outputId": "f0182e7c-1950-4260-89c6-47fad15c8bb8"
      },
      "execution_count": 75,
      "outputs": [
        {
          "output_type": "display_data",
          "data": {
            "text/plain": [
              "<Figure size 640x480 with 1 Axes>"
            ],
            "image/png": "[encoded data removed]"
          },
          "metadata": {}
        }
      ]
    },
    {
      "cell_type": "markdown",
      "source": [
        "#WHICH CITY HAD THE HIGHEST NUMBER OF SALES\n"
      ],
      "metadata": {
        "id": "Arb5EjOnoRyE"
      }
    },
    {
      "cell_type": "code",
      "source": [
        "# city sales analysis for all 3 years\n",
        "city = df.groupby('City')\n",
        "city_sales = city.sum()['Sales']\n",
        "city_sales"
      ],
      "metadata": {
        "colab": {
          "base_uri": "https://localhost:8080/"
        },
        "id": "jT2UMuUBhhcK",
        "outputId": "50b55f6b-4fe4-443b-b123-6ddfe123d385"
      },
      "execution_count": 76,
      "outputs": [
        {
          "output_type": "stream",
          "name": "stderr",
          "text": [
            "<ipython-input-76-9973ec438147>:3: FutureWarning: The default value of numeric_only in DataFrameGroupBy.sum is deprecated. In a future version, numeric_only will default to False. Either specify numeric_only or select only columns which should be valid for the function.\n",
            "  city_sales = city.sum()['Sales']\n"
          ]
        },
        {
          "output_type": "execute_result",
          "data": {
            "text/plain": [
              "City\n",
              "Bodi              667177\n",
              "Chennai           634963\n",
              "Coimbatore        634748\n",
              "Cumbum            626047\n",
              "Dharmapuri        571553\n",
              "Dindigul          575631\n",
              "Kanyakumari       706764\n",
              "Karur             642273\n",
              "Krishnagiri       637273\n",
              "Madurai           617836\n",
              "Nagercoil         551435\n",
              "Namakkal          598530\n",
              "Ooty              599292\n",
              "Perambalur        659738\n",
              "Pudukottai        653179\n",
              "Ramanadhapuram    634386\n",
              "Salem             657093\n",
              "Tenkasi           643652\n",
              "Theni             579553\n",
              "Tirunelveli       659812\n",
              "Trichy            541403\n",
              "Vellore           676550\n",
              "Viluppuram        581274\n",
              "Virudhunagar      606820\n",
              "Name: Sales, dtype: int64"
            ]
          },
          "metadata": {},
          "execution_count": 76
        }
      ]
    },
    {
      "cell_type": "code",
      "source": [
        "# vizualizing the city sales data for the 3 years\n",
        "\n",
        "city_sales_analysis = [product for product, df in city]\n",
        "\n",
        "# bar plot\n",
        "plt.bar(city_sales_analysis, city_sales)\n",
        "plt.ylabel('Number of sales')\n",
        "plt.xlabel('City')\n",
        "plt.xticks(city_sales_analysis, rotation='vertical', size=8)\n",
        "plt.show()"
      ],
      "metadata": {
        "colab": {
          "base_uri": "https://localhost:8080/",
          "height": 539
        },
        "id": "Tq0wqqBChaFI",
        "outputId": "a9c41b76-6497-44fb-ca5a-219578c3c1db"
      },
      "execution_count": 77,
      "outputs": [
        {
          "output_type": "display_data",
          "data": {
            "text/plain": [
              "<Figure size 640x480 with 1 Axes>"
            ],
            "image/png": "[encoded data removed]"
          },
          "metadata": {}
        }
      ]
    },
    {
      "cell_type": "markdown",
      "source": [
        "##Total number of purchases / sales to per customer"
      ],
      "metadata": {
        "id": "_zls1ylalZoK"
      }
    },
    {
      "cell_type": "code",
      "source": [
        "# Total number of sales to per customer\n",
        "customers = df.groupby('Customer Name')\n",
        "customer_sales = customers.sum()['Sales']\n",
        "customer_sales\n"
      ],
      "metadata": {
        "id": "q_UYC8o3lfQ5",
        "colab": {
          "base_uri": "https://localhost:8080/"
        },
        "outputId": "d7fa83bf-21e8-49fa-da72-84024498a7a9"
      },
      "execution_count": 78,
      "outputs": [
        {
          "output_type": "stream",
          "name": "stderr",
          "text": [
            "<ipython-input-78-396f14434c49>:3: FutureWarning: The default value of numeric_only in DataFrameGroupBy.sum is deprecated. In a future version, numeric_only will default to False. Either specify numeric_only or select only columns which should be valid for the function.\n",
            "  customer_sales = customers.sum()['Sales']\n"
          ]
        },
        {
          "output_type": "execute_result",
          "data": {
            "text/plain": [
              "Customer Name\n",
              "Adavan      315341\n",
              "Aditi       299674\n",
              "Akash       307488\n",
              "Alan        294397\n",
              "Amrish      333351\n",
              "Amy         301558\n",
              "Anu         283735\n",
              "Arutra      325720\n",
              "Arvind      293802\n",
              "Esther      283656\n",
              "Ganesh      278349\n",
              "Hafiz       251965\n",
              "Harish      293839\n",
              "Haseena     298924\n",
              "Hussain     307337\n",
              "Jackson     271793\n",
              "James       305915\n",
              "Jonas       293489\n",
              "Komal       295671\n",
              "Krithika    334361\n",
              "Kumar       262623\n",
              "Malik       290884\n",
              "Mathew      308376\n",
              "Muneer      311553\n",
              "Peer        307026\n",
              "Ram         295338\n",
              "Ramesh      292087\n",
              "Ravi        305591\n",
              "Ridhesh     309639\n",
              "Roshan      298463\n",
              "Rumaiza     284534\n",
              "Sabeela     288230\n",
              "Shah        318588\n",
              "Sharon      289486\n",
              "Sheeba      308720\n",
              "Shree       292566\n",
              "Sudeep      309196\n",
              "Sudha       273493\n",
              "Sundar      287151\n",
              "Suresh      315973\n",
              "Surya       312645\n",
              "Veena       299160\n",
              "Verma       331665\n",
              "Veronica    301611\n",
              "Vidya       321798\n",
              "Vince       284536\n",
              "Vinne       319565\n",
              "Willams     293597\n",
              "Yadav       273162\n",
              "Yusuf       299361\n",
              "Name: Sales, dtype: int64"
            ]
          },
          "metadata": {},
          "execution_count": 78
        }
      ]
    },
    {
      "cell_type": "code",
      "source": [
        "# vizualizing Total number of sales to per customer\n",
        "\n",
        "customer_sales_analysis = [product for product, df in customers]\n",
        "\n",
        "# bar plot\n",
        "plt.bar(customer_sales_analysis, customer_sales)\n",
        "plt.ylabel('Number of sales')\n",
        "plt.xlabel('Customer')\n",
        "plt.xticks(customer_sales_analysis, rotation='vertical', size=8)\n",
        "# bar width\n",
        "plt.show()"
      ],
      "metadata": {
        "colab": {
          "base_uri": "https://localhost:8080/",
          "height": 488
        },
        "id": "LY1pOl9cNb7N",
        "outputId": "71bdc369-869a-4fd0-ddec-25dba219d178"
      },
      "execution_count": 79,
      "outputs": [
        {
          "output_type": "display_data",
          "data": {
            "text/plain": [
              "<Figure size 640x480 with 1 Axes>"
            ],
            "image/png": "[encoded data removed]"
          },
          "metadata": {}
        }
      ]
    },
    {
      "cell_type": "markdown",
      "source": [
        "##Total number of sales by region"
      ],
      "metadata": {
        "id": "3UYJSaEgOkAA"
      }
    },
    {
      "cell_type": "code",
      "source": [
        "# sales analysis by region\n",
        "regions = df.groupby('Region')\n",
        "region_sales = regions.sum()['Sales']\n",
        "region_sales\n"
      ],
      "metadata": {
        "colab": {
          "base_uri": "https://localhost:8080/"
        },
        "id": "IVD_u7DNO4AA",
        "outputId": "aa137b91-3465-41af-dffc-98ac2a718e28"
      },
      "execution_count": 80,
      "outputs": [
        {
          "output_type": "stream",
          "name": "stderr",
          "text": [
            "<ipython-input-80-7032e750793f>:3: FutureWarning: The default value of numeric_only in DataFrameGroupBy.sum is deprecated. In a future version, numeric_only will default to False. Either specify numeric_only or select only columns which should be valid for the function.\n",
            "  region_sales = regions.sum()['Sales']\n"
          ]
        },
        {
          "output_type": "execute_result",
          "data": {
            "text/plain": [
              "Region\n",
              "Central    3468156\n",
              "East       4248368\n",
              "North         1254\n",
              "South      2440461\n",
              "West       4798743\n",
              "Name: Sales, dtype: int64"
            ]
          },
          "metadata": {},
          "execution_count": 80
        }
      ]
    },
    {
      "cell_type": "code",
      "source": [
        "# vizualizing sales analysis by region\n",
        "\n",
        "region_sales_analysis = [product for product, df in regions]\n",
        "\n",
        "# bar plot\n",
        "plt.bar(region_sales_analysis, region_sales)\n",
        "plt.ylabel('Number of sales')\n",
        "plt.xlabel('Region')\n",
        "plt.xticks(region_sales_analysis, rotation='vertical', size=8)\n",
        "# bar width\n",
        "plt.show()"
      ],
      "metadata": {
        "colab": {
          "base_uri": "https://localhost:8080/",
          "height": 491
        },
        "id": "pCbi8DsAO8xM",
        "outputId": "691c82e6-dc2a-437b-9834-757aaebc1b6f"
      },
      "execution_count": 81,
      "outputs": [
        {
          "output_type": "display_data",
          "data": {
            "text/plain": [
              "<Figure size 640x480 with 1 Axes>"
            ],
            "image/png": "[encoded data removed]"
          },
          "metadata": {}
        }
      ]
    },
    {
      "cell_type": "markdown",
      "source": [],
      "metadata": {
        "id": "R-vwp3HVnyjO"
      }
    }
  ]
}